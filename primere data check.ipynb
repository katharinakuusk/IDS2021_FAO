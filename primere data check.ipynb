{
 "cells": [
  {
   "cell_type": "code",
   "execution_count": 1,
   "id": "dc66b713",
   "metadata": {},
   "outputs": [],
   "source": [
    "import pandas as pd\n",
    "import numpy as np\n",
    "import matplotlib.pyplot as plt\n",
    "import math"
   ]
  },
  {
   "cell_type": "code",
   "execution_count": null,
   "id": "048e0dc0",
   "metadata": {},
   "outputs": [],
   "source": [
    "pd.set_option('display.max_rows', 500)"
   ]
  },
  {
   "cell_type": "markdown",
   "id": "f5b649a4",
   "metadata": {},
   "source": [
    "Extract"
   ]
  },
  {
   "cell_type": "code",
   "execution_count": 2,
   "id": "755570ed",
   "metadata": {},
   "outputs": [
    {
     "data": {
      "text/html": [
       "<div>\n",
       "<style scoped>\n",
       "    .dataframe tbody tr th:only-of-type {\n",
       "        vertical-align: middle;\n",
       "    }\n",
       "\n",
       "    .dataframe tbody tr th {\n",
       "        vertical-align: top;\n",
       "    }\n",
       "\n",
       "    .dataframe thead th {\n",
       "        text-align: right;\n",
       "    }\n",
       "</style>\n",
       "<table border=\"1\" class=\"dataframe\">\n",
       "  <thead>\n",
       "    <tr style=\"text-align: right;\">\n",
       "      <th></th>\n",
       "      <th>Domain Code</th>\n",
       "      <th>Domain</th>\n",
       "      <th>Area Code (FAO)</th>\n",
       "      <th>Area</th>\n",
       "      <th>Element Code</th>\n",
       "      <th>Element</th>\n",
       "      <th>Item Code</th>\n",
       "      <th>Item</th>\n",
       "      <th>Year Code</th>\n",
       "      <th>Year</th>\n",
       "      <th>Months Code</th>\n",
       "      <th>Months</th>\n",
       "      <th>Unit</th>\n",
       "      <th>Value</th>\n",
       "      <th>Flag</th>\n",
       "      <th>Flag Description</th>\n",
       "    </tr>\n",
       "  </thead>\n",
       "  <tbody>\n",
       "    <tr>\n",
       "      <th>0</th>\n",
       "      <td>PP</td>\n",
       "      <td>Producer Prices</td>\n",
       "      <td>3</td>\n",
       "      <td>Albania</td>\n",
       "      <td>5532</td>\n",
       "      <td>Producer Price (USD/tonne)</td>\n",
       "      <td>515</td>\n",
       "      <td>Apples</td>\n",
       "      <td>1993</td>\n",
       "      <td>1993</td>\n",
       "      <td>7021</td>\n",
       "      <td>Annual value</td>\n",
       "      <td>USD</td>\n",
       "      <td>461.0</td>\n",
       "      <td>NaN</td>\n",
       "      <td>Official data</td>\n",
       "    </tr>\n",
       "    <tr>\n",
       "      <th>1</th>\n",
       "      <td>PP</td>\n",
       "      <td>Producer Prices</td>\n",
       "      <td>3</td>\n",
       "      <td>Albania</td>\n",
       "      <td>5532</td>\n",
       "      <td>Producer Price (USD/tonne)</td>\n",
       "      <td>515</td>\n",
       "      <td>Apples</td>\n",
       "      <td>1995</td>\n",
       "      <td>1995</td>\n",
       "      <td>7021</td>\n",
       "      <td>Annual value</td>\n",
       "      <td>USD</td>\n",
       "      <td>323.6</td>\n",
       "      <td>NaN</td>\n",
       "      <td>Official data</td>\n",
       "    </tr>\n",
       "    <tr>\n",
       "      <th>2</th>\n",
       "      <td>PP</td>\n",
       "      <td>Producer Prices</td>\n",
       "      <td>3</td>\n",
       "      <td>Albania</td>\n",
       "      <td>5532</td>\n",
       "      <td>Producer Price (USD/tonne)</td>\n",
       "      <td>515</td>\n",
       "      <td>Apples</td>\n",
       "      <td>1996</td>\n",
       "      <td>1996</td>\n",
       "      <td>7021</td>\n",
       "      <td>Annual value</td>\n",
       "      <td>USD</td>\n",
       "      <td>325.4</td>\n",
       "      <td>NaN</td>\n",
       "      <td>Official data</td>\n",
       "    </tr>\n",
       "    <tr>\n",
       "      <th>3</th>\n",
       "      <td>PP</td>\n",
       "      <td>Producer Prices</td>\n",
       "      <td>3</td>\n",
       "      <td>Albania</td>\n",
       "      <td>5532</td>\n",
       "      <td>Producer Price (USD/tonne)</td>\n",
       "      <td>515</td>\n",
       "      <td>Apples</td>\n",
       "      <td>1997</td>\n",
       "      <td>1997</td>\n",
       "      <td>7021</td>\n",
       "      <td>Annual value</td>\n",
       "      <td>USD</td>\n",
       "      <td>253.1</td>\n",
       "      <td>NaN</td>\n",
       "      <td>Official data</td>\n",
       "    </tr>\n",
       "    <tr>\n",
       "      <th>4</th>\n",
       "      <td>PP</td>\n",
       "      <td>Producer Prices</td>\n",
       "      <td>3</td>\n",
       "      <td>Albania</td>\n",
       "      <td>5532</td>\n",
       "      <td>Producer Price (USD/tonne)</td>\n",
       "      <td>515</td>\n",
       "      <td>Apples</td>\n",
       "      <td>1998</td>\n",
       "      <td>1998</td>\n",
       "      <td>7021</td>\n",
       "      <td>Annual value</td>\n",
       "      <td>USD</td>\n",
       "      <td>248.9</td>\n",
       "      <td>NaN</td>\n",
       "      <td>Official data</td>\n",
       "    </tr>\n",
       "  </tbody>\n",
       "</table>\n",
       "</div>"
      ],
      "text/plain": [
       "  Domain Code           Domain  Area Code (FAO)     Area  Element Code  \\\n",
       "0          PP  Producer Prices                3  Albania          5532   \n",
       "1          PP  Producer Prices                3  Albania          5532   \n",
       "2          PP  Producer Prices                3  Albania          5532   \n",
       "3          PP  Producer Prices                3  Albania          5532   \n",
       "4          PP  Producer Prices                3  Albania          5532   \n",
       "\n",
       "                      Element  Item Code    Item  Year Code  Year  \\\n",
       "0  Producer Price (USD/tonne)        515  Apples       1993  1993   \n",
       "1  Producer Price (USD/tonne)        515  Apples       1995  1995   \n",
       "2  Producer Price (USD/tonne)        515  Apples       1996  1996   \n",
       "3  Producer Price (USD/tonne)        515  Apples       1997  1997   \n",
       "4  Producer Price (USD/tonne)        515  Apples       1998  1998   \n",
       "\n",
       "   Months Code        Months Unit  Value Flag Flag Description  \n",
       "0         7021  Annual value  USD  461.0  NaN    Official data  \n",
       "1         7021  Annual value  USD  323.6  NaN    Official data  \n",
       "2         7021  Annual value  USD  325.4  NaN    Official data  \n",
       "3         7021  Annual value  USD  253.1  NaN    Official data  \n",
       "4         7021  Annual value  USD  248.9  NaN    Official data  "
      ]
     },
     "execution_count": 2,
     "metadata": {},
     "output_type": "execute_result"
    }
   ],
   "source": [
    "area_raw_df = pd.read_csv('./DATA/FAOSTAT_area.csv')\n",
    "price_raw_df = pd.read_csv('./DATA/FAOSTAT_prices_apple.csv')\n",
    "yield_raw_df = pd.read_csv('./DATA/FAOSTAT_yield_per_area.csv') #yield per area\n",
    "total_yield_raw_df = pd.read_csv('./DATA/FAOSTAT_yield_total.csv')\n",
    "price_raw_df.head()"
   ]
  },
  {
   "cell_type": "markdown",
   "id": "c9345d2f",
   "metadata": {},
   "source": [
    "Transform"
   ]
  },
  {
   "cell_type": "code",
   "execution_count": 3,
   "id": "89316b20",
   "metadata": {},
   "outputs": [
    {
     "data": {
      "text/plain": [
       "(2733, 3)"
      ]
     },
     "execution_count": 3,
     "metadata": {},
     "output_type": "execute_result"
    }
   ],
   "source": [
    "area_df = area_raw_df[['Area', 'Year', 'Value']] #(2704, 3)\n",
    "area_df.columns = area_df.columns.str.replace('Area', 'Country')\n",
    "area_df.columns = area_df.columns.str.replace('Value', 'Area_ha') #Total area under the crop in the country\n",
    "\n",
    "price_df = price_raw_df[['Area', 'Year', 'Value']] #(1883, 3)\n",
    "price_df.columns = price_df.columns.str.replace('Value', 'Price_USD_tonne') #Producer price USD/tonne\n",
    "price_df.columns = price_df.columns.str.replace('Area', 'Country')\n",
    "area_df.shape\n",
    "\n",
    "yield_df = yield_raw_df[['Area', 'Year', 'Value']] #(2679, 3)\n",
    "yield_df.columns = yield_df.columns.str.replace('Value', 'Yield_hg_ha') #Yield per area hg/ha\n",
    "yield_df.columns = yield_df.columns.str.replace('Area', 'Country')\n",
    "\n",
    "total_yield_df = total_yield_raw_df[['Area', 'Year', 'Value']] #(2733, 3)\n",
    "total_yield_df.columns = total_yield_df.columns.str.replace('Value', 'TotalYield_tonnes') #Total annual yield in tonnes\n",
    "total_yield_df.columns = total_yield_df.columns.str.replace('Area', 'Country')\n",
    "total_yield_df.shape"
   ]
  },
  {
   "cell_type": "markdown",
   "id": "e67682ca",
   "metadata": {},
   "source": [
    "Data warehousing"
   ]
  },
  {
   "cell_type": "code",
   "execution_count": 4,
   "id": "44ed161d",
   "metadata": {},
   "outputs": [
    {
     "data": {
      "text/html": [
       "<div>\n",
       "<style scoped>\n",
       "    .dataframe tbody tr th:only-of-type {\n",
       "        vertical-align: middle;\n",
       "    }\n",
       "\n",
       "    .dataframe tbody tr th {\n",
       "        vertical-align: top;\n",
       "    }\n",
       "\n",
       "    .dataframe thead th {\n",
       "        text-align: right;\n",
       "    }\n",
       "</style>\n",
       "<table border=\"1\" class=\"dataframe\">\n",
       "  <thead>\n",
       "    <tr style=\"text-align: right;\">\n",
       "      <th></th>\n",
       "      <th>Country</th>\n",
       "      <th>Year</th>\n",
       "      <th>Area_ha</th>\n",
       "      <th>Price_USD_tonne</th>\n",
       "      <th>Yield_hg_ha</th>\n",
       "      <th>TotalYield_tonnes</th>\n",
       "    </tr>\n",
       "  </thead>\n",
       "  <tbody>\n",
       "    <tr>\n",
       "      <th>0</th>\n",
       "      <td>Afghanistan</td>\n",
       "      <td>1991</td>\n",
       "      <td>2346.0</td>\n",
       "      <td>NaN</td>\n",
       "      <td>74625.0</td>\n",
       "      <td>17507.0</td>\n",
       "    </tr>\n",
       "    <tr>\n",
       "      <th>1</th>\n",
       "      <td>Afghanistan</td>\n",
       "      <td>1992</td>\n",
       "      <td>2308.0</td>\n",
       "      <td>NaN</td>\n",
       "      <td>74523.0</td>\n",
       "      <td>17200.0</td>\n",
       "    </tr>\n",
       "    <tr>\n",
       "      <th>2</th>\n",
       "      <td>Afghanistan</td>\n",
       "      <td>1993</td>\n",
       "      <td>2300.0</td>\n",
       "      <td>NaN</td>\n",
       "      <td>73913.0</td>\n",
       "      <td>17000.0</td>\n",
       "    </tr>\n",
       "    <tr>\n",
       "      <th>3</th>\n",
       "      <td>Afghanistan</td>\n",
       "      <td>1994</td>\n",
       "      <td>2350.0</td>\n",
       "      <td>NaN</td>\n",
       "      <td>74468.0</td>\n",
       "      <td>17500.0</td>\n",
       "    </tr>\n",
       "    <tr>\n",
       "      <th>4</th>\n",
       "      <td>Afghanistan</td>\n",
       "      <td>1995</td>\n",
       "      <td>2631.0</td>\n",
       "      <td>NaN</td>\n",
       "      <td>74759.0</td>\n",
       "      <td>19669.0</td>\n",
       "    </tr>\n",
       "  </tbody>\n",
       "</table>\n",
       "</div>"
      ],
      "text/plain": [
       "       Country  Year  Area_ha  Price_USD_tonne  Yield_hg_ha  TotalYield_tonnes\n",
       "0  Afghanistan  1991   2346.0              NaN      74625.0            17507.0\n",
       "1  Afghanistan  1992   2308.0              NaN      74523.0            17200.0\n",
       "2  Afghanistan  1993   2300.0              NaN      73913.0            17000.0\n",
       "3  Afghanistan  1994   2350.0              NaN      74468.0            17500.0\n",
       "4  Afghanistan  1995   2631.0              NaN      74759.0            19669.0"
      ]
     },
     "execution_count": 4,
     "metadata": {},
     "output_type": "execute_result"
    }
   ],
   "source": [
    "df = area_df.merge(price_df, on=['Country','Year'], how='left')\n",
    "df = df.merge(yield_df, on=['Country','Year'], how='left')\n",
    "df = df.merge(total_yield_df, on=['Country','Year'], how='left')\n",
    "df.head()"
   ]
  },
  {
   "cell_type": "code",
   "execution_count": null,
   "id": "2680da1b",
   "metadata": {},
   "outputs": [],
   "source": [
    "rows_with_missing_values = df.Price_USD_tonne.isnull()\n",
    "print(rows_with_missing_values.iloc[0:200])"
   ]
  },
  {
   "cell_type": "code",
   "execution_count": null,
   "id": "9b82e65c",
   "metadata": {},
   "outputs": [],
   "source": [
    "df.to_csv('workingdata.csv', index = False)"
   ]
  },
  {
   "cell_type": "markdown",
   "id": "3567d508",
   "metadata": {},
   "source": [
    "Check if there are NaN vals in the columns and drop for the primer analysis "
   ]
  },
  {
   "cell_type": "code",
   "execution_count": null,
   "id": "102f2d96",
   "metadata": {},
   "outputs": [],
   "source": [
    "#dropping Nanrow values for countries where no price was provided\n",
    "df.dropna(subset = ['Price_USD_tonne'], inplace=True)\n",
    "#check = df['TotalYield_tonnes'].isnull().values.any()\n",
    "print(df)"
   ]
  },
  {
   "cell_type": "code",
   "execution_count": null,
   "id": "8e251905",
   "metadata": {},
   "outputs": [],
   "source": [
    "df_Estonia = df.loc[(df['Country'] == \"Estonia\") & (df['Year'] != 0)]\n",
    "df_Estonia.plot(x='Year', y='TotalYield_tonnes', kind='line', title = 'Estonia')   #Example visualized for Estonia\n",
    "plt.show()"
   ]
  },
  {
   "cell_type": "code",
   "execution_count": 15,
   "id": "afd6ded1",
   "metadata": {},
   "outputs": [
    {
     "name": "stdout",
     "output_type": "stream",
     "text": [
      "2679\n",
      "<class 'numpy.ndarray'>\n",
      "1854\n"
     ]
    },
    {
     "ename": "KeyError",
     "evalue": "'Year'",
     "output_type": "error",
     "traceback": [
      "\u001b[0;31m---------------------------------------------------------------------------\u001b[0m",
      "\u001b[0;31mKeyError\u001b[0m                                  Traceback (most recent call last)",
      "\u001b[0;32m<ipython-input-15-ace4da47951f>\u001b[0m in \u001b[0;36m<module>\u001b[0;34m\u001b[0m\n\u001b[1;32m     20\u001b[0m \u001b[0;32mfor\u001b[0m \u001b[0myear\u001b[0m \u001b[0;32min\u001b[0m \u001b[0myears\u001b[0m\u001b[0;34m:\u001b[0m\u001b[0;34m\u001b[0m\u001b[0;34m\u001b[0m\u001b[0m\n\u001b[1;32m     21\u001b[0m     \u001b[0mdf_name\u001b[0m \u001b[0;34m=\u001b[0m \u001b[0;34m'df_'\u001b[0m \u001b[0;34m+\u001b[0m \u001b[0mstr\u001b[0m\u001b[0;34m(\u001b[0m\u001b[0myear\u001b[0m\u001b[0;34m)\u001b[0m\u001b[0;34m\u001b[0m\u001b[0;34m\u001b[0m\u001b[0m\n\u001b[0;32m---> 22\u001b[0;31m     \u001b[0myears_df\u001b[0m\u001b[0;34m[\u001b[0m\u001b[0mdf_name\u001b[0m\u001b[0;34m]\u001b[0m \u001b[0;34m=\u001b[0m \u001b[0mdf\u001b[0m\u001b[0;34m.\u001b[0m\u001b[0mloc\u001b[0m\u001b[0;34m[\u001b[0m\u001b[0myears_df\u001b[0m\u001b[0;34m[\u001b[0m\u001b[0;34m'Year'\u001b[0m\u001b[0;34m]\u001b[0m \u001b[0;34m==\u001b[0m \u001b[0myear\u001b[0m\u001b[0;34m]\u001b[0m\u001b[0;34m\u001b[0m\u001b[0;34m\u001b[0m\u001b[0m\n\u001b[0m\u001b[1;32m     23\u001b[0m     \u001b[0myears_df\u001b[0m\u001b[0;34m[\u001b[0m\u001b[0mdf_name\u001b[0m\u001b[0;34m]\u001b[0m\u001b[0;34m.\u001b[0m\u001b[0msort_values\u001b[0m\u001b[0;34m(\u001b[0m\u001b[0mby\u001b[0m\u001b[0;34m=\u001b[0m\u001b[0;34m[\u001b[0m\u001b[0;34m'TotalYield_tonnes'\u001b[0m\u001b[0;34m]\u001b[0m\u001b[0;34m,\u001b[0m \u001b[0mascending\u001b[0m\u001b[0;34m=\u001b[0m\u001b[0;32mFalse\u001b[0m\u001b[0;34m,\u001b[0m \u001b[0minplace\u001b[0m \u001b[0;34m=\u001b[0m \u001b[0;32mTrue\u001b[0m\u001b[0;34m)\u001b[0m\u001b[0;34m\u001b[0m\u001b[0;34m\u001b[0m\u001b[0m\n\u001b[1;32m     24\u001b[0m \u001b[0;34m\u001b[0m\u001b[0m\n",
      "\u001b[0;31mKeyError\u001b[0m: 'Year'"
     ]
    }
   ],
   "source": [
    "#Sorting the data by country per total yield to identify potential grouping producers categories.\n",
    "df.sort_values(by = 'TotalYield_tonnes', ascending=False, inplace = True)\n",
    "\n",
    "# separate the data by years \n",
    "years = df.Year.unique()\n",
    "years = sorted(years)\n",
    "years_df = {}\n",
    "\n",
    "for year in years:\n",
    "    df_name = 'df_' + str(year)\n",
    "    years_df[df_name] = df.loc[df['Year'] == year]\n",
    "    years_df[df_name].sort_values(by=['TotalYield_tonnes'], ascending=False, inplace = True)\n",
    "    \n",
    "print(years_df.keys())"
   ]
  },
  {
   "cell_type": "code",
   "execution_count": 8,
   "id": "c41921e4",
   "metadata": {},
   "outputs": [
    {
     "name": "stdout",
     "output_type": "stream",
     "text": [
      "    year  number_of_countries  countries_submitted_price\n",
      "0   1991                   74                         74\n",
      "1   1992                   92                         92\n",
      "2   1993                   93                         93\n",
      "3   1994                   93                         93\n",
      "4   1995                   93                         93\n",
      "5   1996                   93                         93\n",
      "6   1997                   93                         93\n",
      "7   1998                   93                         93\n",
      "8   1999                   93                         93\n",
      "9   2000                   94                         94\n",
      "10  2001                   94                         94\n",
      "11  2002                   94                         94\n",
      "12  2003                   94                         94\n",
      "13  2004                   94                         94\n",
      "14  2005                   94                         94\n",
      "15  2006                   95                         95\n",
      "16  2007                   94                         94\n",
      "17  2008                   94                         94\n",
      "18  2009                   94                         94\n",
      "19  2010                   94                         94\n",
      "20  2011                   94                         94\n",
      "21  2012                   94                         94\n",
      "22  2013                   94                         94\n",
      "23  2014                   95                         95\n",
      "24  2015                   95                         95\n",
      "25  2016                   95                         95\n",
      "26  2017                   95                         95\n",
      "27  2018                   95                         95\n",
      "28  2019                   95                         95\n"
     ]
    }
   ],
   "source": [
    "lengths = []\n",
    "price_lengths = []\n",
    "\n",
    "for key in years_df.keys():\n",
    "    length = len(years_df[key])\n",
    "    lengths.append([key, length])\n",
    "    \n",
    "for key in years_price_df.keys():\n",
    "    length = len(years_price_df[key])\n",
    "    price_lengths.append([key, length])\n",
    "    \n",
    "lengths = pd.DataFrame(lengths, columns = ['year', 'number_of_countries'])\n",
    "price_lengths = pd.DataFrame(price_lengths, columns = ['year', 'countries_submitted_price'])\n",
    "lengths = lengths.merge(price_lengths, on='year')\n",
    "lengths.year = lengths.year.str.extract('(\\d+)')\n",
    "lengths.year=pd.to_numeric(lengths.year)\n",
    "print(lengths)"
   ]
  },
  {
   "cell_type": "code",
   "execution_count": null,
   "id": "6f40e287",
   "metadata": {},
   "outputs": [],
   "source": [
    "#check how much data is available \n",
    "\n",
    "x = np.arange(len(lengths))  # the label locations\n",
    "width = 0.35  # the width of the bars\n",
    "\n",
    "fig, ax = plt.subplots()\n",
    "rects1 = ax.bar(x - width/2, men_means, width, label='Men')\n",
    "rects2 = ax.bar(x + width/2, women_means, width, label='Women')\n",
    "\n",
    "#ax.bar(lengths.year, lengths.number_of_countries)\n",
    "ax.title(\"Countries Submitted Sata by Years\")\n",
    "ax.set_ylabel('Submitions')\n",
    "plt.xticks(ticks = lengths.year, rotation=45)\n",
    "plt.show()"
   ]
  },
  {
   "cell_type": "code",
   "execution_count": null,
   "id": "a99152ac",
   "metadata": {},
   "outputs": [],
   "source": [
    "by_parts = {}\n",
    "\n",
    "for key, df in years_df.items():\n",
    "    print(df.describe())\n",
    "    df"
   ]
  },
  {
   "cell_type": "code",
   "execution_count": null,
   "id": "9728ba3f",
   "metadata": {},
   "outputs": [],
   "source": [
    "#devide df by parts for better ploting preformance\n",
    "by_parts = {}\n",
    "\n",
    "for key, df in years_df.items():\n",
    "    df_number_of_parts = math.ceil(len(df) / 20)\n",
    "    j = 0\n",
    "    i = 20\n",
    "    arr = []\n",
    "    \n",
    "    for parts in range(df_number_of_parts):\n",
    "        df_part = df.iloc[j:i]\n",
    "        arr.append(df_part)\n",
    "        j += 20\n",
    "        i += 20\n",
    "        \n",
    "    by_parts[key] = arr\n",
    "\n",
    "print(by_parts['df_1991'][1])\n",
    "        #plt.bar(df_part[\"Country\"], df_part[\"TotalYield_tonnes\"])"
   ]
  },
  {
   "cell_type": "code",
   "execution_count": null,
   "id": "572a3a4f",
   "metadata": {},
   "outputs": [],
   "source": [
    "plt.bar(by_parts['df_2019'][2]['Country'], by_parts['df_2019'][2][\"TotalYield_tonnes\"])\n",
    "plt.tick_params(axis=\"both\", direction=\"in\", pad=15)\n",
    "plt.title(\"2019\")\n",
    "plt.xticks(rotation='vertical')\n",
    "\n",
    "plt.show()"
   ]
  },
  {
   "cell_type": "code",
   "execution_count": null,
   "id": "0913eb0d",
   "metadata": {},
   "outputs": [],
   "source": [
    "plt.bar(by_parts['df_2019'][1]['Country'], by_parts['df_2019'][1][\"TotalYield_tonnes\"])\n",
    "plt.title(\"2019\")\n",
    "plt.xticks(rotation='vertical')\n",
    "\n",
    "plt.show()"
   ]
  },
  {
   "cell_type": "code",
   "execution_count": null,
   "id": "af374f4f",
   "metadata": {},
   "outputs": [],
   "source": [
    "fig, axes = plt.subplots(figsize=(8,8),nrows=2, ncols=2)\n",
    "ax1=plt.subplot(2,2,1)\n",
    "\n",
    "plt.bar(by_parts['df_1993'][0]['Country'], by_parts['df_1993'][0][\"TotalYield_tonnes\"])\n",
    "plt.xticks(rotation='vertical')\n",
    "\n",
    "plt.bar(by_parts['df_1993'][1]['Country'], by_parts['df_1993'][1][\"TotalYield_tonnes\"])\n",
    "plt.tick_params(axis=\"both\", direction=\"in\", pad=15)\n",
    "plt.xticks(rotation='vertical')\n",
    "\n",
    "plt.bar(by_parts['df_1993'][2]['Country'], by_parts['df_1993'][2][\"TotalYield_tonnes\"])\n",
    "plt.tick_params(axis=\"both\", direction=\"in\", pad=15)\n",
    "plt.xticks(rotation='vertical')\n",
    "\n",
    "plt.title(\"1993\")\n",
    "plt.xticks(rotation='vertical')"
   ]
  },
  {
   "cell_type": "code",
   "execution_count": 28,
   "id": "819a018b",
   "metadata": {},
   "outputs": [
    {
     "ename": "KeyError",
     "evalue": "True",
     "output_type": "error",
     "traceback": [
      "\u001b[0;31m---------------------------------------------------------------------------\u001b[0m",
      "\u001b[0;31mKeyError\u001b[0m                                  Traceback (most recent call last)",
      "\u001b[0;32m~/anaconda3/lib/python3.8/site-packages/pandas/core/indexes/base.py\u001b[0m in \u001b[0;36mget_loc\u001b[0;34m(self, key, method, tolerance)\u001b[0m\n\u001b[1;32m   3360\u001b[0m             \u001b[0;32mtry\u001b[0m\u001b[0;34m:\u001b[0m\u001b[0;34m\u001b[0m\u001b[0;34m\u001b[0m\u001b[0m\n\u001b[0;32m-> 3361\u001b[0;31m                 \u001b[0;32mreturn\u001b[0m \u001b[0mself\u001b[0m\u001b[0;34m.\u001b[0m\u001b[0m_engine\u001b[0m\u001b[0;34m.\u001b[0m\u001b[0mget_loc\u001b[0m\u001b[0;34m(\u001b[0m\u001b[0mcasted_key\u001b[0m\u001b[0;34m)\u001b[0m\u001b[0;34m\u001b[0m\u001b[0;34m\u001b[0m\u001b[0m\n\u001b[0m\u001b[1;32m   3362\u001b[0m             \u001b[0;32mexcept\u001b[0m \u001b[0mKeyError\u001b[0m \u001b[0;32mas\u001b[0m \u001b[0merr\u001b[0m\u001b[0;34m:\u001b[0m\u001b[0;34m\u001b[0m\u001b[0;34m\u001b[0m\u001b[0m\n",
      "\u001b[0;32m~/anaconda3/lib/python3.8/site-packages/pandas/_libs/index.pyx\u001b[0m in \u001b[0;36mpandas._libs.index.IndexEngine.get_loc\u001b[0;34m()\u001b[0m\n",
      "\u001b[0;32m~/anaconda3/lib/python3.8/site-packages/pandas/_libs/index.pyx\u001b[0m in \u001b[0;36mpandas._libs.index.IndexEngine.get_loc\u001b[0;34m()\u001b[0m\n",
      "\u001b[0;32mpandas/_libs/hashtable_class_helper.pxi\u001b[0m in \u001b[0;36mpandas._libs.hashtable.PyObjectHashTable.get_item\u001b[0;34m()\u001b[0m\n",
      "\u001b[0;32mpandas/_libs/hashtable_class_helper.pxi\u001b[0m in \u001b[0;36mpandas._libs.hashtable.PyObjectHashTable.get_item\u001b[0;34m()\u001b[0m\n",
      "\u001b[0;31mKeyError\u001b[0m: True",
      "\nThe above exception was the direct cause of the following exception:\n",
      "\u001b[0;31mKeyError\u001b[0m                                  Traceback (most recent call last)",
      "\u001b[0;32m<ipython-input-28-590fd8087fcf>\u001b[0m in \u001b[0;36m<module>\u001b[0;34m\u001b[0m\n\u001b[1;32m      1\u001b[0m \u001b[0mdf_diff\u001b[0m \u001b[0;34m=\u001b[0m \u001b[0mdf\u001b[0m\u001b[0;34m.\u001b[0m\u001b[0mcopy\u001b[0m\u001b[0;34m(\u001b[0m\u001b[0;34m)\u001b[0m\u001b[0;34m\u001b[0m\u001b[0;34m\u001b[0m\u001b[0m\n\u001b[0;32m----> 2\u001b[0;31m \u001b[0mdf_diff\u001b[0m \u001b[0;34m=\u001b[0m \u001b[0mdf_diff\u001b[0m\u001b[0;34m[\u001b[0m\u001b[0mdf_diff\u001b[0m\u001b[0;34m.\u001b[0m\u001b[0mYield_hg_ha\u001b[0m\u001b[0;34m.\u001b[0m\u001b[0misna\u001b[0m\u001b[0;34m(\u001b[0m\u001b[0;34m)\u001b[0m\u001b[0;34m.\u001b[0m\u001b[0many\u001b[0m\u001b[0;34m(\u001b[0m\u001b[0;34m)\u001b[0m\u001b[0;34m]\u001b[0m\u001b[0;34m\u001b[0m\u001b[0;34m\u001b[0m\u001b[0m\n\u001b[0m\u001b[1;32m      3\u001b[0m \u001b[0mprint\u001b[0m\u001b[0;34m(\u001b[0m\u001b[0mdf_diff\u001b[0m\u001b[0;34m)\u001b[0m\u001b[0;34m\u001b[0m\u001b[0;34m\u001b[0m\u001b[0m\n",
      "\u001b[0;32m~/anaconda3/lib/python3.8/site-packages/pandas/core/frame.py\u001b[0m in \u001b[0;36m__getitem__\u001b[0;34m(self, key)\u001b[0m\n\u001b[1;32m   3453\u001b[0m             \u001b[0;32mif\u001b[0m \u001b[0mself\u001b[0m\u001b[0;34m.\u001b[0m\u001b[0mcolumns\u001b[0m\u001b[0;34m.\u001b[0m\u001b[0mnlevels\u001b[0m \u001b[0;34m>\u001b[0m \u001b[0;36m1\u001b[0m\u001b[0;34m:\u001b[0m\u001b[0;34m\u001b[0m\u001b[0;34m\u001b[0m\u001b[0m\n\u001b[1;32m   3454\u001b[0m                 \u001b[0;32mreturn\u001b[0m \u001b[0mself\u001b[0m\u001b[0;34m.\u001b[0m\u001b[0m_getitem_multilevel\u001b[0m\u001b[0;34m(\u001b[0m\u001b[0mkey\u001b[0m\u001b[0;34m)\u001b[0m\u001b[0;34m\u001b[0m\u001b[0;34m\u001b[0m\u001b[0m\n\u001b[0;32m-> 3455\u001b[0;31m             \u001b[0mindexer\u001b[0m \u001b[0;34m=\u001b[0m \u001b[0mself\u001b[0m\u001b[0;34m.\u001b[0m\u001b[0mcolumns\u001b[0m\u001b[0;34m.\u001b[0m\u001b[0mget_loc\u001b[0m\u001b[0;34m(\u001b[0m\u001b[0mkey\u001b[0m\u001b[0;34m)\u001b[0m\u001b[0;34m\u001b[0m\u001b[0;34m\u001b[0m\u001b[0m\n\u001b[0m\u001b[1;32m   3456\u001b[0m             \u001b[0;32mif\u001b[0m \u001b[0mis_integer\u001b[0m\u001b[0;34m(\u001b[0m\u001b[0mindexer\u001b[0m\u001b[0;34m)\u001b[0m\u001b[0;34m:\u001b[0m\u001b[0;34m\u001b[0m\u001b[0;34m\u001b[0m\u001b[0m\n\u001b[1;32m   3457\u001b[0m                 \u001b[0mindexer\u001b[0m \u001b[0;34m=\u001b[0m \u001b[0;34m[\u001b[0m\u001b[0mindexer\u001b[0m\u001b[0;34m]\u001b[0m\u001b[0;34m\u001b[0m\u001b[0;34m\u001b[0m\u001b[0m\n",
      "\u001b[0;32m~/anaconda3/lib/python3.8/site-packages/pandas/core/indexes/base.py\u001b[0m in \u001b[0;36mget_loc\u001b[0;34m(self, key, method, tolerance)\u001b[0m\n\u001b[1;32m   3361\u001b[0m                 \u001b[0;32mreturn\u001b[0m \u001b[0mself\u001b[0m\u001b[0;34m.\u001b[0m\u001b[0m_engine\u001b[0m\u001b[0;34m.\u001b[0m\u001b[0mget_loc\u001b[0m\u001b[0;34m(\u001b[0m\u001b[0mcasted_key\u001b[0m\u001b[0;34m)\u001b[0m\u001b[0;34m\u001b[0m\u001b[0;34m\u001b[0m\u001b[0m\n\u001b[1;32m   3362\u001b[0m             \u001b[0;32mexcept\u001b[0m \u001b[0mKeyError\u001b[0m \u001b[0;32mas\u001b[0m \u001b[0merr\u001b[0m\u001b[0;34m:\u001b[0m\u001b[0;34m\u001b[0m\u001b[0;34m\u001b[0m\u001b[0m\n\u001b[0;32m-> 3363\u001b[0;31m                 \u001b[0;32mraise\u001b[0m \u001b[0mKeyError\u001b[0m\u001b[0;34m(\u001b[0m\u001b[0mkey\u001b[0m\u001b[0;34m)\u001b[0m \u001b[0;32mfrom\u001b[0m \u001b[0merr\u001b[0m\u001b[0;34m\u001b[0m\u001b[0;34m\u001b[0m\u001b[0m\n\u001b[0m\u001b[1;32m   3364\u001b[0m \u001b[0;34m\u001b[0m\u001b[0m\n\u001b[1;32m   3365\u001b[0m         \u001b[0;32mif\u001b[0m \u001b[0mis_scalar\u001b[0m\u001b[0;34m(\u001b[0m\u001b[0mkey\u001b[0m\u001b[0;34m)\u001b[0m \u001b[0;32mand\u001b[0m \u001b[0misna\u001b[0m\u001b[0;34m(\u001b[0m\u001b[0mkey\u001b[0m\u001b[0;34m)\u001b[0m \u001b[0;32mand\u001b[0m \u001b[0;32mnot\u001b[0m \u001b[0mself\u001b[0m\u001b[0;34m.\u001b[0m\u001b[0mhasnans\u001b[0m\u001b[0;34m:\u001b[0m\u001b[0;34m\u001b[0m\u001b[0;34m\u001b[0m\u001b[0m\n",
      "\u001b[0;31mKeyError\u001b[0m: True"
     ]
    }
   ],
   "source": [
    "df_diff = df.copy()\n",
    "df_diff = df_diff[df_diff.Yield_hg_ha.isna().any()]\n",
    "print(df_diff)"
   ]
  },
  {
   "cell_type": "code",
   "execution_count": null,
   "id": "327a8829",
   "metadata": {},
   "outputs": [],
   "source": []
  }
 ],
 "metadata": {
  "kernelspec": {
   "display_name": "Python 3",
   "language": "python",
   "name": "python3"
  },
  "language_info": {
   "codemirror_mode": {
    "name": "ipython",
    "version": 3
   },
   "file_extension": ".py",
   "mimetype": "text/x-python",
   "name": "python",
   "nbconvert_exporter": "python",
   "pygments_lexer": "ipython3",
   "version": "3.8.5"
  }
 },
 "nbformat": 4,
 "nbformat_minor": 5
}
