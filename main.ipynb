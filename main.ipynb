{
 "cells": [
  {
   "cell_type": "code",
   "execution_count": 1,
   "id": "dc66b713",
   "metadata": {},
   "outputs": [],
   "source": [
    "import pandas as pd\n",
    "import numpy as np\n",
    "import matplotlib.pyplot as plt\n",
    "import math"
   ]
  },
  {
   "cell_type": "markdown",
   "id": "f5b649a4",
   "metadata": {},
   "source": [
    "Extract"
   ]
  },
  {
   "cell_type": "code",
   "execution_count": 2,
   "id": "755570ed",
   "metadata": {},
   "outputs": [
    {
     "data": {
      "text/html": [
       "<div>\n",
       "<style scoped>\n",
       "    .dataframe tbody tr th:only-of-type {\n",
       "        vertical-align: middle;\n",
       "    }\n",
       "\n",
       "    .dataframe tbody tr th {\n",
       "        vertical-align: top;\n",
       "    }\n",
       "\n",
       "    .dataframe thead th {\n",
       "        text-align: right;\n",
       "    }\n",
       "</style>\n",
       "<table border=\"1\" class=\"dataframe\">\n",
       "  <thead>\n",
       "    <tr style=\"text-align: right;\">\n",
       "      <th></th>\n",
       "      <th>Domain Code</th>\n",
       "      <th>Domain</th>\n",
       "      <th>Area Code (FAO)</th>\n",
       "      <th>Area</th>\n",
       "      <th>Element Code</th>\n",
       "      <th>Element</th>\n",
       "      <th>Item Code</th>\n",
       "      <th>Item</th>\n",
       "      <th>Year Code</th>\n",
       "      <th>Year</th>\n",
       "      <th>Months Code</th>\n",
       "      <th>Months</th>\n",
       "      <th>Unit</th>\n",
       "      <th>Value</th>\n",
       "      <th>Flag</th>\n",
       "      <th>Flag Description</th>\n",
       "    </tr>\n",
       "  </thead>\n",
       "  <tbody>\n",
       "    <tr>\n",
       "      <th>0</th>\n",
       "      <td>PP</td>\n",
       "      <td>Producer Prices</td>\n",
       "      <td>3</td>\n",
       "      <td>Albania</td>\n",
       "      <td>5532</td>\n",
       "      <td>Producer Price (USD/tonne)</td>\n",
       "      <td>515</td>\n",
       "      <td>Apples</td>\n",
       "      <td>1993</td>\n",
       "      <td>1993</td>\n",
       "      <td>7021</td>\n",
       "      <td>Annual value</td>\n",
       "      <td>USD</td>\n",
       "      <td>461.0</td>\n",
       "      <td>NaN</td>\n",
       "      <td>Official data</td>\n",
       "    </tr>\n",
       "    <tr>\n",
       "      <th>1</th>\n",
       "      <td>PP</td>\n",
       "      <td>Producer Prices</td>\n",
       "      <td>3</td>\n",
       "      <td>Albania</td>\n",
       "      <td>5532</td>\n",
       "      <td>Producer Price (USD/tonne)</td>\n",
       "      <td>515</td>\n",
       "      <td>Apples</td>\n",
       "      <td>1995</td>\n",
       "      <td>1995</td>\n",
       "      <td>7021</td>\n",
       "      <td>Annual value</td>\n",
       "      <td>USD</td>\n",
       "      <td>323.6</td>\n",
       "      <td>NaN</td>\n",
       "      <td>Official data</td>\n",
       "    </tr>\n",
       "    <tr>\n",
       "      <th>2</th>\n",
       "      <td>PP</td>\n",
       "      <td>Producer Prices</td>\n",
       "      <td>3</td>\n",
       "      <td>Albania</td>\n",
       "      <td>5532</td>\n",
       "      <td>Producer Price (USD/tonne)</td>\n",
       "      <td>515</td>\n",
       "      <td>Apples</td>\n",
       "      <td>1996</td>\n",
       "      <td>1996</td>\n",
       "      <td>7021</td>\n",
       "      <td>Annual value</td>\n",
       "      <td>USD</td>\n",
       "      <td>325.4</td>\n",
       "      <td>NaN</td>\n",
       "      <td>Official data</td>\n",
       "    </tr>\n",
       "    <tr>\n",
       "      <th>3</th>\n",
       "      <td>PP</td>\n",
       "      <td>Producer Prices</td>\n",
       "      <td>3</td>\n",
       "      <td>Albania</td>\n",
       "      <td>5532</td>\n",
       "      <td>Producer Price (USD/tonne)</td>\n",
       "      <td>515</td>\n",
       "      <td>Apples</td>\n",
       "      <td>1997</td>\n",
       "      <td>1997</td>\n",
       "      <td>7021</td>\n",
       "      <td>Annual value</td>\n",
       "      <td>USD</td>\n",
       "      <td>253.1</td>\n",
       "      <td>NaN</td>\n",
       "      <td>Official data</td>\n",
       "    </tr>\n",
       "    <tr>\n",
       "      <th>4</th>\n",
       "      <td>PP</td>\n",
       "      <td>Producer Prices</td>\n",
       "      <td>3</td>\n",
       "      <td>Albania</td>\n",
       "      <td>5532</td>\n",
       "      <td>Producer Price (USD/tonne)</td>\n",
       "      <td>515</td>\n",
       "      <td>Apples</td>\n",
       "      <td>1998</td>\n",
       "      <td>1998</td>\n",
       "      <td>7021</td>\n",
       "      <td>Annual value</td>\n",
       "      <td>USD</td>\n",
       "      <td>248.9</td>\n",
       "      <td>NaN</td>\n",
       "      <td>Official data</td>\n",
       "    </tr>\n",
       "  </tbody>\n",
       "</table>\n",
       "</div>"
      ],
      "text/plain": [
       "  Domain Code           Domain  Area Code (FAO)     Area  Element Code  \\\n",
       "0          PP  Producer Prices                3  Albania          5532   \n",
       "1          PP  Producer Prices                3  Albania          5532   \n",
       "2          PP  Producer Prices                3  Albania          5532   \n",
       "3          PP  Producer Prices                3  Albania          5532   \n",
       "4          PP  Producer Prices                3  Albania          5532   \n",
       "\n",
       "                      Element  Item Code    Item  Year Code  Year  \\\n",
       "0  Producer Price (USD/tonne)        515  Apples       1993  1993   \n",
       "1  Producer Price (USD/tonne)        515  Apples       1995  1995   \n",
       "2  Producer Price (USD/tonne)        515  Apples       1996  1996   \n",
       "3  Producer Price (USD/tonne)        515  Apples       1997  1997   \n",
       "4  Producer Price (USD/tonne)        515  Apples       1998  1998   \n",
       "\n",
       "   Months Code        Months Unit  Value Flag Flag Description  \n",
       "0         7021  Annual value  USD  461.0  NaN    Official data  \n",
       "1         7021  Annual value  USD  323.6  NaN    Official data  \n",
       "2         7021  Annual value  USD  325.4  NaN    Official data  \n",
       "3         7021  Annual value  USD  253.1  NaN    Official data  \n",
       "4         7021  Annual value  USD  248.9  NaN    Official data  "
      ]
     },
     "execution_count": 2,
     "metadata": {},
     "output_type": "execute_result"
    }
   ],
   "source": [
    "area_raw_df = pd.read_csv('./DATA/FAOSTAT_area.csv')\n",
    "price_raw_df = pd.read_csv('./DATA/FAOSTAT_prices_apple.csv')\n",
    "yield_raw_df = pd.read_csv('./DATA/FAOSTAT_yield_per_area.csv') #yield per area\n",
    "total_yield_raw_df = pd.read_csv('./DATA/FAOSTAT_yield_total.csv')\n",
    "price_raw_df.head()"
   ]
  },
  {
   "cell_type": "markdown",
   "id": "c9345d2f",
   "metadata": {},
   "source": [
    "Transform"
   ]
  },
  {
   "cell_type": "code",
   "execution_count": 3,
   "id": "89316b20",
   "metadata": {},
   "outputs": [
    {
     "data": {
      "text/plain": [
       "(2733, 3)"
      ]
     },
     "execution_count": 3,
     "metadata": {},
     "output_type": "execute_result"
    }
   ],
   "source": [
    "area_df = area_raw_df[['Area', 'Year', 'Value']] #(2704, 3)\n",
    "area_df.columns = area_df.columns.str.replace('Area', 'Country')\n",
    "area_df.columns = area_df.columns.str.replace('Value', 'Area_ha') #Total area under the crop in the country\n",
    "\n",
    "price_df = price_raw_df[['Area', 'Year', 'Value']] #(1883, 3)\n",
    "price_df.columns = price_df.columns.str.replace('Value', 'Price_USD_tonne') #Producer price USD/tonne\n",
    "price_df.columns = price_df.columns.str.replace('Area', 'Country')\n",
    "area_df.shape\n",
    "\n",
    "yield_df = yield_raw_df[['Area', 'Year', 'Value']] #(2679, 3)\n",
    "yield_df.columns = yield_df.columns.str.replace('Value', 'Yield_hg_ha') #Yield per area hg/ha\n",
    "yield_df.columns = yield_df.columns.str.replace('Area', 'Country')\n",
    "\n",
    "total_yield_df = total_yield_raw_df[['Area', 'Year', 'Value']] #(2733, 3)\n",
    "total_yield_df.columns = total_yield_df.columns.str.replace('Value', 'TotalYield_tonnes') #Total annual yield in tonnes\n",
    "total_yield_df.columns = total_yield_df.columns.str.replace('Area', 'Country')\n",
    "total_yield_df.shape"
   ]
  },
  {
   "cell_type": "markdown",
   "id": "e67682ca",
   "metadata": {},
   "source": [
    "Data warehousing"
   ]
  },
  {
   "cell_type": "code",
   "execution_count": 4,
   "id": "44ed161d",
   "metadata": {},
   "outputs": [
    {
     "data": {
      "text/html": [
       "<div>\n",
       "<style scoped>\n",
       "    .dataframe tbody tr th:only-of-type {\n",
       "        vertical-align: middle;\n",
       "    }\n",
       "\n",
       "    .dataframe tbody tr th {\n",
       "        vertical-align: top;\n",
       "    }\n",
       "\n",
       "    .dataframe thead th {\n",
       "        text-align: right;\n",
       "    }\n",
       "</style>\n",
       "<table border=\"1\" class=\"dataframe\">\n",
       "  <thead>\n",
       "    <tr style=\"text-align: right;\">\n",
       "      <th></th>\n",
       "      <th>Country</th>\n",
       "      <th>Year</th>\n",
       "      <th>Area_ha</th>\n",
       "      <th>Price_USD_tonne</th>\n",
       "      <th>Yield_hg_ha</th>\n",
       "      <th>TotalYield_tonnes</th>\n",
       "    </tr>\n",
       "  </thead>\n",
       "  <tbody>\n",
       "    <tr>\n",
       "      <th>0</th>\n",
       "      <td>Afghanistan</td>\n",
       "      <td>1991</td>\n",
       "      <td>2346.0</td>\n",
       "      <td>NaN</td>\n",
       "      <td>74625.0</td>\n",
       "      <td>17507.0</td>\n",
       "    </tr>\n",
       "    <tr>\n",
       "      <th>1</th>\n",
       "      <td>Afghanistan</td>\n",
       "      <td>1992</td>\n",
       "      <td>2308.0</td>\n",
       "      <td>NaN</td>\n",
       "      <td>74523.0</td>\n",
       "      <td>17200.0</td>\n",
       "    </tr>\n",
       "    <tr>\n",
       "      <th>2</th>\n",
       "      <td>Afghanistan</td>\n",
       "      <td>1993</td>\n",
       "      <td>2300.0</td>\n",
       "      <td>NaN</td>\n",
       "      <td>73913.0</td>\n",
       "      <td>17000.0</td>\n",
       "    </tr>\n",
       "    <tr>\n",
       "      <th>3</th>\n",
       "      <td>Afghanistan</td>\n",
       "      <td>1994</td>\n",
       "      <td>2350.0</td>\n",
       "      <td>NaN</td>\n",
       "      <td>74468.0</td>\n",
       "      <td>17500.0</td>\n",
       "    </tr>\n",
       "    <tr>\n",
       "      <th>4</th>\n",
       "      <td>Afghanistan</td>\n",
       "      <td>1995</td>\n",
       "      <td>2631.0</td>\n",
       "      <td>NaN</td>\n",
       "      <td>74759.0</td>\n",
       "      <td>19669.0</td>\n",
       "    </tr>\n",
       "  </tbody>\n",
       "</table>\n",
       "</div>"
      ],
      "text/plain": [
       "       Country  Year  Area_ha  Price_USD_tonne  Yield_hg_ha  TotalYield_tonnes\n",
       "0  Afghanistan  1991   2346.0              NaN      74625.0            17507.0\n",
       "1  Afghanistan  1992   2308.0              NaN      74523.0            17200.0\n",
       "2  Afghanistan  1993   2300.0              NaN      73913.0            17000.0\n",
       "3  Afghanistan  1994   2350.0              NaN      74468.0            17500.0\n",
       "4  Afghanistan  1995   2631.0              NaN      74759.0            19669.0"
      ]
     },
     "execution_count": 4,
     "metadata": {},
     "output_type": "execute_result"
    }
   ],
   "source": [
    "df = area_df.merge(price_df, on=['Country','Year'], how='left')\n",
    "df = df.merge(yield_df, on=['Country','Year'], how='left')\n",
    "df = df.merge(total_yield_df, on=['Country','Year'], how='left')\n",
    "df.head()"
   ]
  },
  {
   "cell_type": "markdown",
   "id": "8eedc479",
   "metadata": {},
   "source": [
    "Check if there are NaN vals in the columns and drop for the primer analysis "
   ]
  },
  {
   "cell_type": "code",
   "execution_count": 5,
   "id": "102f2d96",
   "metadata": {},
   "outputs": [
    {
     "name": "stdout",
     "output_type": "stream",
     "text": [
      "       Country  Year  Area_ha  Price_USD_tonne  Yield_hg_ha  TotalYield_tonnes\n",
      "31     Albania  1993   2076.0            461.0      48170.0            10000.0\n",
      "33     Albania  1995   2140.0            323.6      46729.0            10000.0\n",
      "34     Albania  1996   2100.0            325.4      47619.0            10000.0\n",
      "35     Albania  1997   2242.0            253.1      50401.0            11300.0\n",
      "36     Albania  1998   2300.0            248.9      50000.0            11500.0\n",
      "...        ...   ...      ...              ...          ...                ...\n",
      "2671     Yemen  2017   2179.0           2052.2      78068.0            17011.0\n",
      "2672     Yemen  2018   2148.0           1991.4      77775.0            16706.0\n",
      "2699  Zimbabwe  2015    744.0           1897.0      89516.0             6660.0\n",
      "2700  Zimbabwe  2016    735.0           1789.0      89116.0             6550.0\n",
      "2701  Zimbabwe  2017    734.0           1865.0      88747.0             6514.0\n",
      "\n",
      "[1854 rows x 6 columns]\n"
     ]
    }
   ],
   "source": [
    "#dropping Nanrow values for countries where no price was provided\n",
    "df.dropna(subset = ['Price_USD_tonne'], inplace=True)\n",
    "#check = df['TotalYield_tonnes'].isnull().values.any()\n",
    "print(df)"
   ]
  },
  {
   "cell_type": "code",
   "execution_count": 6,
   "id": "05a0f47a",
   "metadata": {},
   "outputs": [
    {
     "data": {
      "image/png": "[encoded data removed]",
      "text/plain": [
       "<Figure size 640x480 with 1 Axes>"
      ]
     },
     "metadata": {},
     "output_type": "display_data"
    }
   ],
   "source": [
    "df_Estonia = df.loc[(df['Country'] == \"Estonia\") & (df['Year'] != 0)]\n",
    "df_Estonia.plot(x='Year', y='TotalYield_tonnes', kind='line', title = 'Estonia')   #Example visualized for Estonia\n",
    "plt.show()"
   ]
  },
  {
   "cell_type": "code",
   "execution_count": 7,
   "id": "afaf4732",
   "metadata": {},
   "outputs": [
    {
     "name": "stdout",
     "output_type": "stream",
     "text": [
      "dict_keys(['df_1991', 'df_1992', 'df_1993', 'df_1994', 'df_1995', 'df_1996', 'df_1997', 'df_1998', 'df_1999', 'df_2000', 'df_2001', 'df_2002', 'df_2003', 'df_2004', 'df_2005', 'df_2006', 'df_2007', 'df_2008', 'df_2009', 'df_2010', 'df_2011', 'df_2012', 'df_2013', 'df_2014', 'df_2015', 'df_2016', 'df_2017', 'df_2018', 'df_2019'])\n"
     ]
    },
    {
     "name": "stderr",
     "output_type": "stream",
     "text": [
      "/Users/kath/anaconda3/lib/python3.8/site-packages/pandas/util/_decorators.py:311: SettingWithCopyWarning: \n",
      "A value is trying to be set on a copy of a slice from a DataFrame\n",
      "\n",
      "See the caveats in the documentation: https://pandas.pydata.org/pandas-docs/stable/user_guide/indexing.html#returning-a-view-versus-a-copy\n",
      "  return func(*args, **kwargs)\n"
     ]
    }
   ],
   "source": [
    "#Sorting the data by country per total yield to identify potential grouping producers categories.\n",
    "df.sort_values(by = 'TotalYield_tonnes', ascending=False, inplace = True)\n",
    "\n",
    "# separate the data by years \n",
    "years = df.Year.unique()\n",
    "years = sorted(years)\n",
    "years_df = {}\n",
    "\n",
    "for year in years:\n",
    "    df_name = 'df_' + str(year)\n",
    "    years_df[df_name] = df.loc[df['Year'] == year]\n",
    "    years_df[df_name].sort_values(by=['TotalYield_tonnes'], ascending=False, inplace = True)\n",
    "    \n",
    "print(years_df.keys())"
   ]
  },
  {
   "cell_type": "code",
   "execution_count": 8,
   "id": "99a0826b",
   "metadata": {},
   "outputs": [
    {
     "name": "stdout",
     "output_type": "stream",
     "text": [
      "df_1991  length:  35\n",
      "df_1992  length:  43\n",
      "df_1993  length:  48\n",
      "df_1994  length:  50\n",
      "df_1995  length:  55\n",
      "df_1996  length:  57\n",
      "df_1997  length:  61\n",
      "df_1998  length:  62\n",
      "df_1999  length:  63\n",
      "df_2000  length:  69\n",
      "df_2001  length:  71\n",
      "df_2002  length:  72\n",
      "df_2003  length:  70\n",
      "df_2004  length:  69\n",
      "df_2005  length:  69\n",
      "df_2006  length:  71\n",
      "df_2007  length:  70\n",
      "df_2008  length:  70\n",
      "df_2009  length:  70\n",
      "df_2010  length:  69\n",
      "df_2011  length:  70\n",
      "df_2012  length:  69\n",
      "df_2013  length:  68\n",
      "df_2014  length:  68\n",
      "df_2015  length:  70\n",
      "df_2016  length:  70\n",
      "df_2017  length:  69\n",
      "df_2018  length:  66\n",
      "df_2019  length:  60\n"
     ]
    }
   ],
   "source": [
    "#check how much data is available \n",
    "\n",
    "for key in years_df.keys():\n",
    "    length = len(years_df[key])\n",
    "    print(key, \" length: \", length)"
   ]
  },
  {
   "cell_type": "code",
   "execution_count": null,
   "id": "f9903c51",
   "metadata": {},
   "outputs": [],
   "source": [
    "years_df"
   ]
  },
  {
   "cell_type": "code",
   "execution_count": 9,
   "id": "fcc3d0c2",
   "metadata": {},
   "outputs": [
    {
     "name": "stdout",
     "output_type": "stream",
     "text": [
      "                               Country  Year  Area_ha  Price_USD_tonne  \\\n",
      "1826                          Pakistan  1991  27865.0            994.7   \n",
      "144                          Australia  1991  20400.0            492.3   \n",
      "1971                          Portugal  1991  24765.0            639.1   \n",
      "1711                       Netherlands  1991  16800.0            780.9   \n",
      "952                             Greece  1991  17070.0            678.8   \n",
      "2329                       Switzerland  1991   4943.0            684.8   \n",
      "1913                              Peru  1991  10055.0            336.6   \n",
      "693                            Denmark  1991   3367.0            831.7   \n",
      "2415                           Tunisia  1991  10200.0            648.9   \n",
      "2587                           Uruguay  1991   1894.0            486.4   \n",
      "722                            Ecuador  1991   3480.0             11.3   \n",
      "289   Bolivia (Plurinational State of)  1991   1330.0            232.9   \n",
      "606                             Cyprus  1991   1050.0           1234.4   \n",
      "837                            Finland  1991    502.0           1694.0   \n",
      "1583                             Malta  1991     30.0            553.7   \n",
      "\n",
      "      Yield_hg_ha  TotalYield_tonnes  \n",
      "1826     105329.0           293500.0  \n",
      "144      141534.0           288730.0  \n",
      "1971     106340.0           263350.0  \n",
      "1711     154762.0           260000.0  \n",
      "952      141769.0           242000.0  \n",
      "2329     367793.0           181800.0  \n",
      "1913     108175.0           108770.0  \n",
      "693      163350.0            55000.0  \n",
      "2415      39216.0            40000.0  \n",
      "2587     182682.0            34600.0  \n",
      "722       44322.0            15424.0  \n",
      "289       62331.0             8290.0  \n",
      "606       73333.0             7700.0  \n",
      "837      109562.0             5500.0  \n",
      "1583     146667.0              440.0  \n"
     ]
    }
   ],
   "source": [
    "#devide df by parts for better ploting preformance\n",
    "by_parts = {}\n",
    "\n",
    "for key, df in years_df.items():\n",
    "    df_number_of_parts = math.ceil(len(df) / 20)\n",
    "    j = 0\n",
    "    i = 20\n",
    "    arr = []\n",
    "    \n",
    "    for parts in range(df_number_of_parts):\n",
    "        df_part = df.iloc[j:i]\n",
    "        arr.append(df_part)\n",
    "        j += 20\n",
    "        i += 20\n",
    "        \n",
    "    by_parts[key] = arr\n",
    "\n",
    "print(by_parts['df_1991'][1])\n",
    "        #plt.bar(df_part[\"Country\"], df_part[\"TotalYield_tonnes\"])"
   ]
  },
  {
   "cell_type": "code",
   "execution_count": 10,
   "id": "d16d4db9",
   "metadata": {},
   "outputs": [
    {
     "data": {
      "image/png": "[encoded data removed]",
      "text/plain": [
       "<Figure size 640x480 with 1 Axes>"
      ]
     },
     "metadata": {},
     "output_type": "display_data"
    }
   ],
   "source": [
    "\n",
    "\n",
    "plt.bar(by_parts['df_1993'][2]['Country'], by_parts['df_1993'][2][\"TotalYield_tonnes\"])\n",
    "plt.tick_params(axis=\"both\", direction=\"in\", pad=15)\n",
    "plt.title(\"1993\")\n",
    "plt.xticks(rotation='vertical')\n",
    "\n",
    "plt.show()"
   ]
  },
  {
   "cell_type": "code",
   "execution_count": 11,
   "id": "3c3492e8",
   "metadata": {},
   "outputs": [
    {
     "data": {
      "image/png": "[encoded data removed]",
      "text/plain": [
       "<Figure size 640x480 with 1 Axes>"
      ]
     },
     "metadata": {},
     "output_type": "display_data"
    }
   ],
   "source": [
    "plt.bar(by_parts['df_1993'][0]['Country'], by_parts['df_1993'][0][\"TotalYield_tonnes\"])\n",
    "plt.title(\"1993\")\n",
    "plt.xticks(rotation='vertical')\n",
    "\n",
    "plt.show()"
   ]
  },
  {
   "cell_type": "code",
   "execution_count": 12,
   "id": "8d5bfab4",
   "metadata": {},
   "outputs": [
    {
     "data": {
      "text/plain": [
       "([0,\n",
       "  1,\n",
       "  2,\n",
       "  3,\n",
       "  4,\n",
       "  5,\n",
       "  6,\n",
       "  7,\n",
       "  8,\n",
       "  9,\n",
       "  10,\n",
       "  11,\n",
       "  12,\n",
       "  13,\n",
       "  14,\n",
       "  15,\n",
       "  16,\n",
       "  17,\n",
       "  18,\n",
       "  19,\n",
       "  20,\n",
       "  21,\n",
       "  22,\n",
       "  23,\n",
       "  24,\n",
       "  25,\n",
       "  26,\n",
       "  27,\n",
       "  28,\n",
       "  29,\n",
       "  30,\n",
       "  31,\n",
       "  32,\n",
       "  33,\n",
       "  34,\n",
       "  35,\n",
       "  36,\n",
       "  37,\n",
       "  38,\n",
       "  39,\n",
       "  40,\n",
       "  41,\n",
       "  42,\n",
       "  43,\n",
       "  44,\n",
       "  45,\n",
       "  46,\n",
       "  47],\n",
       " [Text(0, 0, ''),\n",
       "  Text(0, 0, ''),\n",
       "  Text(0, 0, ''),\n",
       "  Text(0, 0, ''),\n",
       "  Text(0, 0, ''),\n",
       "  Text(0, 0, ''),\n",
       "  Text(0, 0, ''),\n",
       "  Text(0, 0, ''),\n",
       "  Text(0, 0, ''),\n",
       "  Text(0, 0, ''),\n",
       "  Text(0, 0, ''),\n",
       "  Text(0, 0, ''),\n",
       "  Text(0, 0, ''),\n",
       "  Text(0, 0, ''),\n",
       "  Text(0, 0, ''),\n",
       "  Text(0, 0, ''),\n",
       "  Text(0, 0, ''),\n",
       "  Text(0, 0, ''),\n",
       "  Text(0, 0, ''),\n",
       "  Text(0, 0, ''),\n",
       "  Text(0, 0, ''),\n",
       "  Text(0, 0, ''),\n",
       "  Text(0, 0, ''),\n",
       "  Text(0, 0, ''),\n",
       "  Text(0, 0, ''),\n",
       "  Text(0, 0, ''),\n",
       "  Text(0, 0, ''),\n",
       "  Text(0, 0, ''),\n",
       "  Text(0, 0, ''),\n",
       "  Text(0, 0, ''),\n",
       "  Text(0, 0, ''),\n",
       "  Text(0, 0, ''),\n",
       "  Text(0, 0, ''),\n",
       "  Text(0, 0, ''),\n",
       "  Text(0, 0, ''),\n",
       "  Text(0, 0, ''),\n",
       "  Text(0, 0, ''),\n",
       "  Text(0, 0, ''),\n",
       "  Text(0, 0, ''),\n",
       "  Text(0, 0, ''),\n",
       "  Text(0, 0, ''),\n",
       "  Text(0, 0, ''),\n",
       "  Text(0, 0, ''),\n",
       "  Text(0, 0, ''),\n",
       "  Text(0, 0, ''),\n",
       "  Text(0, 0, ''),\n",
       "  Text(0, 0, ''),\n",
       "  Text(0, 0, '')])"
      ]
     },
     "execution_count": 12,
     "metadata": {},
     "output_type": "execute_result"
    }
   ],
   "source": [
    "fig, axes = plt.subplots(figsize=(8,8),nrows=2, ncols=2)\n",
    "ax1=plt.subplot(2,2,1)\n",
    "\n",
    "plt.bar(by_parts['df_1993'][0]['Country'], by_parts['df_1993'][0][\"TotalYield_tonnes\"])\n",
    "plt.xticks(rotation='vertical')\n",
    "\n",
    "plt.bar(by_parts['df_1993'][1]['Country'], by_parts['df_1993'][1][\"TotalYield_tonnes\"])\n",
    "plt.tick_params(axis=\"both\", direction=\"in\", pad=15)\n",
    "plt.xticks(rotation='vertical')\n",
    "\n",
    "plt.bar(by_parts['df_1993'][2]['Country'], by_parts['df_1993'][2][\"TotalYield_tonnes\"])\n",
    "plt.tick_params(axis=\"both\", direction=\"in\", pad=15)\n",
    "plt.xticks(rotation='vertical')\n",
    "\n",
    "plt.title(\"1993\")\n",
    "plt.xticks(rotation='vertical')"
   ]
  },
  {
   "cell_type": "code",
   "execution_count": null,
   "id": "4c3d1893",
   "metadata": {},
   "outputs": [],
   "source": []
  }
 ],
 "metadata": {
  "kernelspec": {
   "display_name": "Python 3",
   "language": "python",
   "name": "python3"
  },
  "language_info": {
   "codemirror_mode": {
    "name": "ipython",
    "version": 3
   },
   "file_extension": ".py",
   "mimetype": "text/x-python",
   "name": "python",
   "nbconvert_exporter": "python",
   "pygments_lexer": "ipython3",
   "version": "3.8.5"
  }
 },
 "nbformat": 4,
 "nbformat_minor": 5
}
