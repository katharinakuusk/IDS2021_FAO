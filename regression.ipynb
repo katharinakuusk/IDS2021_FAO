{
 "cells": [
  {
   "cell_type": "code",
   "execution_count": 1,
   "id": "b444fb7f",
   "metadata": {},
   "outputs": [],
   "source": [
    "import pandas as pd\n",
    "import numpy as np\n",
    "import matplotlib.pyplot as plt\n",
    "import math\n",
    "from sklearn.linear_model import LinearRegression"
   ]
  },
  {
   "cell_type": "code",
   "execution_count": 2,
   "id": "202c2ae4",
   "metadata": {},
   "outputs": [
    {
     "name": "stdout",
     "output_type": "stream",
     "text": [
      "Index(['Year', 'Area_ha', 'Price_USD_tonne', 'Yield_hg_ha',\n",
      "       'TotalYield_tonnes', 'Country_Albania', 'Country_Algeria',\n",
      "       'Country_Argentina', 'Country_Armenia', 'Country_Australia',\n",
      "       'Country_Austria', 'Country_Azerbaijan', 'Country_Belarus',\n",
      "       'Country_Belgium', 'Country_Bhutan',\n",
      "       'Country_Bolivia (Plurinational State of)',\n",
      "       'Country_Bosnia and Herzegovina', 'Country_Brazil', 'Country_Bulgaria',\n",
      "       'Country_Canada', 'Country_Chile', 'Country_China',\n",
      "       'Country_China, mainland', 'Country_Colombia', 'Country_Croatia',\n",
      "       'Country_Cyprus', 'Country_Czechia', 'Country_Denmark',\n",
      "       'Country_Ecuador', 'Country_Egypt', 'Country_Estonia',\n",
      "       'Country_Finland', 'Country_France', 'Country_Georgia',\n",
      "       'Country_Germany', 'Country_Greece', 'Country_Grenada',\n",
      "       'Country_Hungary', 'Country_India',\n",
      "       'Country_Iran (Islamic Republic of)', 'Country_Iraq', 'Country_Israel',\n",
      "       'Country_Italy', 'Country_Japan', 'Country_Jordan',\n",
      "       'Country_Kazakhstan', 'Country_Kenya', 'Country_Latvia',\n",
      "       'Country_Lebanon', 'Country_Lithuania', 'Country_Luxembourg',\n",
      "       'Country_Madagascar', 'Country_Malta', 'Country_Mexico',\n",
      "       'Country_Morocco', 'Country_Nepal', 'Country_Netherlands',\n",
      "       'Country_New Zealand', 'Country_North Macedonia', 'Country_Norway',\n",
      "       'Country_Pakistan', 'Country_Palestine', 'Country_Peru',\n",
      "       'Country_Poland', 'Country_Portugal', 'Country_Republic of Korea',\n",
      "       'Country_Republic of Moldova', 'Country_Romania',\n",
      "       'Country_Russian Federation', 'Country_Serbia',\n",
      "       'Country_Serbia and Montenegro', 'Country_Slovakia', 'Country_Slovenia',\n",
      "       'Country_South Africa', 'Country_Spain', 'Country_Sweden',\n",
      "       'Country_Switzerland', 'Country_Tajikistan', 'Country_Tunisia',\n",
      "       'Country_Turkey', 'Country_Turkmenistan', 'Country_Ukraine',\n",
      "       'Country_United Kingdom of Great Britain and Northern Ireland',\n",
      "       'Country_United States of America', 'Country_Uruguay', 'Country_Yemen',\n",
      "       'Country_Zimbabwe'],\n",
      "      dtype='object')\n",
      "57       346.7\n",
      "143      416.9\n",
      "172     1344.5\n",
      "174      539.8\n",
      "202      235.3\n",
      "230      343.8\n",
      "250      416.9\n",
      "345      276.5\n",
      "403      292.4\n",
      "432      479.7\n",
      "461      746.5\n",
      "519     1359.6\n",
      "577      319.1\n",
      "605      285.9\n",
      "634     1012.3\n",
      "661      342.6\n",
      "721      488.2\n",
      "836      373.9\n",
      "865     1779.6\n",
      "894      667.1\n",
      "922      299.4\n",
      "951      498.8\n",
      "980      687.1\n",
      "1096     161.6\n",
      "1154     279.9\n",
      "1183     690.4\n",
      "1241    1670.4\n",
      "1270     579.2\n",
      "1299    2406.2\n",
      "1356     512.7\n",
      "1441     704.4\n",
      "1470     928.0\n",
      "1527     421.0\n",
      "1547    1567.9\n",
      "1638     572.7\n",
      "1681     436.7\n",
      "1710     899.6\n",
      "1739     684.3\n",
      "1768     513.9\n",
      "1796     339.1\n",
      "1825    1183.0\n",
      "1883    1281.0\n",
      "1941     260.3\n",
      "1970     171.9\n",
      "1999     750.4\n",
      "2056     164.3\n",
      "2101     580.5\n",
      "2172     391.7\n",
      "2213     418.8\n",
      "2241     549.0\n",
      "2270     525.7\n",
      "2299     485.8\n",
      "2328    1023.0\n",
      "2357    1072.7\n",
      "2414     227.3\n",
      "2472     302.1\n",
      "2528     182.9\n",
      "2557    1142.5\n",
      "2586     720.9\n",
      "2615     879.3\n",
      "Name: Price_USD_tonne, dtype: float64\n"
     ]
    }
   ],
   "source": [
    "from sklearn.model_selection import train_test_split\n",
    "from sklearn.metrics import mean_squared_error, r2_score\n",
    "from sklearn.metrics import r2_score\n",
    "\n",
    "df = pd.read_csv('./DATA/lininterpolated.csv')\n",
    "df.dropna(axis = 0, inplace = True)\n",
    "data_dum = pd.get_dummies(df, columns=[\"Country\"])\n",
    "\n",
    "train_df = data_dum.drop(data_dum[data_dum['Year'] == 2019].index)\n",
    "val = data_dum.loc[data_dum['Year'] == 2019]\n",
    "X_val = val.drop('Price_USD_tonne',  axis=1, inplace = False)\n",
    "print(val.columns)\n",
    "y_val = val['Price_USD_tonne']\n",
    "print(y_val)"
   ]
  },
  {
   "cell_type": "code",
   "execution_count": 3,
   "id": "1b00fbec",
   "metadata": {},
   "outputs": [
    {
     "name": "stdout",
     "output_type": "stream",
     "text": [
      "Year                                                            False\n",
      "Area_ha                                                         False\n",
      "Yield_hg_ha                                                     False\n",
      "TotalYield_tonnes                                               False\n",
      "Country_Albania                                                 False\n",
      "                                                                ...  \n",
      "Country_United Kingdom of Great Britain and Northern Ireland    False\n",
      "Country_United States of America                                False\n",
      "Country_Uruguay                                                 False\n",
      "Country_Yemen                                                   False\n",
      "Country_Zimbabwe                                                False\n",
      "Length: 86, dtype: bool\n"
     ]
    },
    {
     "name": "stderr",
     "output_type": "stream",
     "text": [
      "/Users/kath/anaconda3/lib/python3.8/site-packages/pandas/core/frame.py:4901: SettingWithCopyWarning: \n",
      "A value is trying to be set on a copy of a slice from a DataFrame\n",
      "\n",
      "See the caveats in the documentation: https://pandas.pydata.org/pandas-docs/stable/user_guide/indexing.html#returning-a-view-versus-a-copy\n",
      "  return super().drop(\n"
     ]
    }
   ],
   "source": [
    "\n",
    "X_train,X_test,y_train,y_test = train_test_split(train_df, train_df.Price_USD_tonne, test_size=0.2)\n",
    "X_train.drop(['Price_USD_tonne'], axis=1, inplace=True) \n",
    "X_test.drop(['Price_USD_tonne'], axis=1, inplace=True) \n",
    "print(X_train.isna().any())"
   ]
  },
  {
   "cell_type": "markdown",
   "id": "725b612c",
   "metadata": {},
   "source": [
    "Is there correlation between area, yield and producer price ?\n",
    "Linear regrassion"
   ]
  },
  {
   "cell_type": "code",
   "execution_count": 4,
   "id": "36d5aec6",
   "metadata": {},
   "outputs": [],
   "source": [
    "reg = LinearRegression(fit_intercept=False).fit(X_train, y_train)\n",
    "score = reg.score(X_train, y_train)\n",
    "prediction = reg.predict(X_test)\n",
    "coeffients = pd.DataFrame({'features':X_train.columns, 'coef':reg.coef_})"
   ]
  },
  {
   "cell_type": "code",
   "execution_count": 5,
   "id": "e7bf19d6",
   "metadata": {},
   "outputs": [
    {
     "name": "stdout",
     "output_type": "stream",
     "text": [
      "Mean squared error: 2956294.33\n",
      "Coefficient of determination: -11.22\n"
     ]
    },
    {
     "data": {
      "image/png": "[encoded data removed]",
      "text/plain": [
       "<Figure size 640x480 with 1 Axes>"
      ]
     },
     "metadata": {},
     "output_type": "display_data"
    }
   ],
   "source": [
    "print(\"Mean squared error: %.2f\" % mean_squared_error(y_test, prediction))\n",
    "# The coefficient of determination: 1 is perfect prediction\n",
    "print(\"Coefficient of determination: %.2f\" % r2_score(y_test, prediction))\n",
    "\n",
    "# Plot outputs\n",
    "plt.scatter(prediction, y_test, color=\"black\")\n",
    "#plt.plot(prediction, y_test, color=\"blue\", linewidth=3)\n",
    "\n",
    "plt.xticks(())\n",
    "plt.xlabel('prediction')\n",
    "plt.yticks(())\n",
    "plt.ylabel('test')\n",
    "plt.title(\"predicted values\")\n",
    "\n",
    "plt.show()"
   ]
  },
  {
   "cell_type": "code",
   "execution_count": 6,
   "id": "4c5cf9fc",
   "metadata": {},
   "outputs": [
    {
     "name": "stdout",
     "output_type": "stream",
     "text": [
      "Mean squared error: 52676.07\n",
      "Coefficient of determination: 0.74\n"
     ]
    }
   ],
   "source": [
    "validation = reg.predict(X_val)\n",
    "print(\"Mean squared error: %.2f\" % mean_squared_error(y_val, validation))\n",
    "# The coefficient of determination: 1 is perfect prediction\n",
    "print(\"Coefficient of determination: %.2f\" % r2_score(y_val, validation))"
   ]
  },
  {
   "cell_type": "markdown",
   "id": "b5884d07",
   "metadata": {},
   "source": [
    "Lasso regression"
   ]
  },
  {
   "cell_type": "code",
   "execution_count": 7,
   "id": "46115da4",
   "metadata": {},
   "outputs": [
    {
     "name": "stdout",
     "output_type": "stream",
     "text": [
      "Mean squared error: 60472.86\n",
      "Coefficient of determination: 0.75\n"
     ]
    },
    {
     "data": {
      "image/png": "[encoded data removed]",
      "text/plain": [
       "<Figure size 640x480 with 1 Axes>"
      ]
     },
     "metadata": {},
     "output_type": "display_data"
    }
   ],
   "source": [
    "from sklearn.linear_model import Ridge, Lasso\n",
    "\n",
    "clf_Las = Lasso().fit(X_train, y_train)\n",
    "score = clf_Las.score(X_train, y_train)\n",
    "prediction = clf_Las.predict(X_test)\n",
    "coefficients = pd.DataFrame({'features':X_train.columns, 'coef':clf_Las .coef_})\n",
    "print(\"Mean squared error: %.2f\" % mean_squared_error(y_test, prediction))\n",
    "# The coefficient of determination: 1 is perfect prediction\n",
    "print(\"Coefficient of determination: %.2f\" % r2_score(y_test, prediction))\n",
    "\n",
    "# Plot outputs\n",
    "plt.scatter(prediction, y_test, color=\"black\")\n",
    "#plt.plot(prediction, y_test, color=\"blue\", linewidth=3)\n",
    "\n",
    "plt.xticks(())\n",
    "plt.xlabel('prediction')\n",
    "plt.yticks(())\n",
    "plt.ylabel('test')\n",
    "plt.title(\"Lasso Regression\")\n",
    "\n",
    "plt.show()"
   ]
  },
  {
   "cell_type": "code",
   "execution_count": 8,
   "id": "ff4b4dba",
   "metadata": {},
   "outputs": [
    {
     "name": "stdout",
     "output_type": "stream",
     "text": [
      "R squared: 0.75\n"
     ]
    }
   ],
   "source": [
    "print(\"R squared: %.2f\" % r2_score(y_test, prediction))"
   ]
  },
  {
   "cell_type": "code",
   "execution_count": 9,
   "id": "0a2ce291",
   "metadata": {},
   "outputs": [
    {
     "name": "stdout",
     "output_type": "stream",
     "text": [
      "                                             features        coef\n",
      "0                                                Year   15.735063\n",
      "1                                             Area_ha   -0.000011\n",
      "2                                         Yield_hg_ha    0.000145\n",
      "3                                   TotalYield_tonnes    0.000003\n",
      "4                                     Country_Albania  -30.715021\n",
      "..                                                ...         ...\n",
      "81  Country_United Kingdom of Great Britain and No...  353.965991\n",
      "82                   Country_United States of America    0.000000\n",
      "83                                    Country_Uruguay  256.738628\n",
      "84                                      Country_Yemen  611.319334\n",
      "85                                   Country_Zimbabwe    0.000000\n",
      "\n",
      "[86 rows x 2 columns]\n"
     ]
    }
   ],
   "source": [
    "print(coefficients)"
   ]
  },
  {
   "cell_type": "markdown",
   "id": "21a82f04",
   "metadata": {},
   "source": [
    "Lasso model may be used for feature selection: according the assigned coefficients the producer price is mainly dependent on country and year. Both this parameters reflect both climatic and economical variations. "
   ]
  },
  {
   "cell_type": "code",
   "execution_count": 10,
   "id": "1e15c09c",
   "metadata": {},
   "outputs": [
    {
     "name": "stdout",
     "output_type": "stream",
     "text": [
      "Mean squared error: 62605.18\n",
      "Coefficient of determination: 0.69\n"
     ]
    }
   ],
   "source": [
    "validation = clf_Las.predict(X_val)\n",
    "print(\"Mean squared error: %.2f\" % mean_squared_error(y_val, validation))\n",
    "# The coefficient of determination: 1 is perfect prediction\n",
    "print(\"Coefficient of determination: %.2f\" % r2_score(y_val, validation))"
   ]
  },
  {
   "cell_type": "markdown",
   "id": "afca4650",
   "metadata": {},
   "source": [
    "Ridge regression"
   ]
  },
  {
   "cell_type": "code",
   "execution_count": null,
   "id": "50beb122",
   "metadata": {},
   "outputs": [],
   "source": []
  },
  {
   "cell_type": "code",
   "execution_count": 11,
   "id": "2b12a032",
   "metadata": {},
   "outputs": [
    {
     "name": "stdout",
     "output_type": "stream",
     "text": [
      "Mean squared error: 48578.82\n",
      "Coefficient of determination: 0.80\n"
     ]
    },
    {
     "name": "stderr",
     "output_type": "stream",
     "text": [
      "/Users/kath/anaconda3/lib/python3.8/site-packages/sklearn/linear_model/_ridge.py:147: LinAlgWarning: Ill-conditioned matrix (rcond=2.45009e-17): result may not be accurate.\n",
      "  return linalg.solve(A, Xy, sym_pos=True,\n"
     ]
    },
    {
     "data": {
      "image/png": "[encoded data removed]",
      "text/plain": [
       "<Figure size 640x480 with 1 Axes>"
      ]
     },
     "metadata": {},
     "output_type": "display_data"
    }
   ],
   "source": [
    "clf = Ridge().fit(X_train, y_train)\n",
    "score = clf.score(X_train, y_train)\n",
    "prediction = clf.predict(X_test)\n",
    "coefficients = pd.DataFrame({'features':X_train.columns, 'coef':clf_Las .coef_})\n",
    "print(\"Mean squared error: %.2f\" % mean_squared_error(y_test, prediction))\n",
    "# The coefficient of determination: 1 is perfect prediction\n",
    "print(\"Coefficient of determination: %.2f\" % r2_score(y_test, prediction))\n",
    "\n",
    "# Plot outputs\n",
    "plt.scatter(prediction, y_test, color=\"black\")\n",
    "#plt.plot(prediction, y_test, color=\"blue\", linewidth=3)\n",
    "\n",
    "plt.xticks(())\n",
    "plt.xlabel('prediction')\n",
    "plt.yticks(())\n",
    "plt.ylabel('test')\n",
    "plt.title(\"Redge Regression\")\n",
    "\n",
    "plt.show()"
   ]
  },
  {
   "cell_type": "code",
   "execution_count": 12,
   "id": "7a7968bc",
   "metadata": {},
   "outputs": [
    {
     "name": "stdout",
     "output_type": "stream",
     "text": [
      "Mean squared error: 55495.02\n",
      "Coefficient of determination: 0.73\n"
     ]
    }
   ],
   "source": [
    "validation = clf.predict(X_val)\n",
    "print(\"Mean squared error: %.2f\" % mean_squared_error(y_val, validation))\n",
    "# The coefficient of determination: 1 is perfect prediction\n",
    "print(\"Coefficient of determination: %.2f\" % r2_score(y_val, validation))"
   ]
  },
  {
   "cell_type": "markdown",
   "id": "c993e2b4",
   "metadata": {},
   "source": [
    "Random forest regression"
   ]
  },
  {
   "cell_type": "code",
   "execution_count": 13,
   "id": "af499f2a",
   "metadata": {},
   "outputs": [
    {
     "name": "stdout",
     "output_type": "stream",
     "text": [
      "Mean Absolute Error: 541.9710057401217\n",
      "Mean Squared Error: 534411.4520451928\n",
      "Root Mean Squared Error: 731.0345081083333\n"
     ]
    },
    {
     "data": {
      "image/png": "[encoded data removed]",
      "text/plain": [
       "<Figure size 640x480 with 1 Axes>"
      ]
     },
     "metadata": {},
     "output_type": "display_data"
    }
   ],
   "source": [
    "from sklearn.ensemble import RandomForestRegressor\n",
    "from sklearn.datasets import make_regression\n",
    "from sklearn import metrics\n",
    "\n",
    "X_train, y_train = make_regression(n_features=86, n_informative=2,\n",
    "                        random_state=0, shuffle=False)\n",
    "regr = RandomForestRegressor(max_depth=2, random_state=0)\n",
    "regr.fit(X_train, y_train)\n",
    "prediction = regr.predict(X_test)\n",
    "\n",
    "print('Mean Absolute Error:', metrics.mean_absolute_error(y_test, prediction))  \n",
    "print('Mean Squared Error:', metrics.mean_squared_error(y_test, prediction))  \n",
    "print('Root Mean Squared Error:', np.sqrt(metrics.mean_squared_error(y_test, prediction)))\n",
    "\n",
    "# Plot outputs\n",
    "plt.scatter(prediction, y_test, color=\"black\")\n",
    "#plt.plot(prediction, y_test, color=\"blue\", linewidth=3)\n",
    "\n",
    "plt.xticks(())\n",
    "plt.xlabel('prediction')\n",
    "plt.yticks(())\n",
    "plt.ylabel('test')\n",
    "plt.title(\"Random Forest Regression\")\n",
    "\n",
    "plt.show()"
   ]
  },
  {
   "cell_type": "markdown",
   "id": "53a202c2",
   "metadata": {},
   "source": [
    "No correlation, let's try out drop features that has been defined redundant by Lasso"
   ]
  },
  {
   "cell_type": "code",
   "execution_count": 14,
   "id": "cb86135d",
   "metadata": {},
   "outputs": [
    {
     "ename": "SyntaxError",
     "evalue": "invalid syntax (<ipython-input-14-342cc555b065>, line 7)",
     "output_type": "error",
     "traceback": [
      "\u001b[0;36m  File \u001b[0;32m\"<ipython-input-14-342cc555b065>\"\u001b[0;36m, line \u001b[0;32m7\u001b[0m\n\u001b[0;31m    X_train_temp = X_train_temp.drop(['Area_ha', 'Yield_hg_ha', 'TotalYield_tonnes'], axis=1)\u001b[0m\n\u001b[0m    ^\u001b[0m\n\u001b[0;31mSyntaxError\u001b[0m\u001b[0;31m:\u001b[0m invalid syntax\n"
     ]
    }
   ],
   "source": [
    "X_train_2 = X_train.copy()\n",
    "X_test_2 = X_test.copy()\n",
    "\n",
    "X_train_temp = pd.DataFrame(X_train_2)\n",
    "print(type)\n",
    "X_test_temp = pd.DataFrame(X_test_2\n",
    "\n",
    "X_train_temp = X_train_temp.drop(['Area_ha', 'Yield_hg_ha', 'TotalYield_tonnes'], axis=1) \n",
    "X_test_temp = X_test_temp.drop(['Area_ha', 'Yield_hg_ha', 'TotalYield_tonnes'], axis=1) \n",
    "\n",
    "X_train_temp, y_train_temp = make_regression(n_features=83, n_informative=2,\n",
    "                        random_state=0, shuffle=False)\n",
    "regr = RandomForestRegressor(max_depth=2, random_state=0)\n",
    "regr.fit(X_train_temp, y_train_temp)\n",
    "prediction = regr.predict(X_test_temp)\n",
    "\n",
    "print('Mean Absolute Error:', metrics.mean_absolute_error(y_test_temp, prediction))  \n",
    "print('Mean Squared Error:', metrics.mean_squared_error(y_test_temp, prediction))  \n",
    "print('Root Mean Squared Error:', np.sqrt(metrics.mean_squared_error(y_test_temp, prediction)))\n",
    "\n",
    "# Plot outputs\n",
    "plt.scatter(prediction, y_test_temp, color=\"black\")\n",
    "#plt.plot(prediction, y_test, color=\"blue\", linewidth=3)\n",
    "\n",
    "plt.xticks(())\n",
    "plt.xlabel('prediction')\n",
    "plt.yticks(())\n",
    "plt.ylabel('test')\n",
    "plt.title(\"Random Forest Regression\")\n",
    "\n",
    "plt.show()"
   ]
  },
  {
   "cell_type": "markdown",
   "id": "acb6e05e",
   "metadata": {},
   "source": [
    "Let's try to check wether there is correlation between initial variables of interest at all. Let's exclude countries"
   ]
  },
  {
   "cell_type": "code",
   "execution_count": null,
   "id": "cb1eeafd",
   "metadata": {},
   "outputs": [],
   "source": [
    "X_train_temp = pd.DataFrame(X_train, columns = ['Year', 'Area_ha', 'Yield_hg_ha', 'TotalYield_tonnes'])\n",
    "X_test_temp = pd.DataFrame(X_test, columns = ['Year', 'Area_ha', 'Yield_hg_ha', 'TotalYield_tonnes'])\n",
    "\n",
    "X_train_temp, y_train_temp = make_regression(n_features=4, n_informative=2,\n",
    "                        random_state=0, shuffle=False)\n",
    "regr = RandomForestRegressor(max_depth=2, random_state=0)\n",
    "regr.fit(X_train_temp, y_train_temp)\n",
    "prediction = regr.predict(X_test_temp)\n",
    "\n",
    "print('Mean Absolute Error:', metrics.mean_absolute_error(y_test_temp, prediction))  \n",
    "print('Mean Squared Error:', metrics.mean_squared_error(y_test_temp, prediction))  \n",
    "print('Root Mean Squared Error:', np.sqrt(metrics.mean_squared_error(y_test_temp, prediction)))\n",
    "\n",
    "# Plot outputs\n",
    "plt.scatter(prediction, y_test_temp, color=\"black\")\n",
    "#plt.plot(prediction, y_test, color=\"blue\", linewidth=3)\n",
    "\n",
    "plt.xticks(())\n",
    "plt.xlabel('prediction')\n",
    "plt.yticks(())\n",
    "plt.ylabel('test')\n",
    "plt.title(\"Random Forest Regression\")\n",
    "\n",
    "plt.show()"
   ]
  },
  {
   "cell_type": "code",
   "execution_count": null,
   "id": "be50412d",
   "metadata": {},
   "outputs": [],
   "source": []
  }
 ],
 "metadata": {
  "kernelspec": {
   "display_name": "Python 3",
   "language": "python",
   "name": "python3"
  },
  "language_info": {
   "codemirror_mode": {
    "name": "ipython",
    "version": 3
   },
   "file_extension": ".py",
   "mimetype": "text/x-python",
   "name": "python",
   "nbconvert_exporter": "python",
   "pygments_lexer": "ipython3",
   "version": "3.8.5"
  }
 },
 "nbformat": 4,
 "nbformat_minor": 5
}
